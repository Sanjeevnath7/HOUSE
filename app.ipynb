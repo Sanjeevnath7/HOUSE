{
 "cells": [
  {
   "cell_type": "code",
   "execution_count": 1,
   "id": "f8063f08",
   "metadata": {},
   "outputs": [],
   "source": [
    "import pandas as pd\n",
    "from sklearn.preprocessing import LabelEncoder\n",
    "\n",
    "def load_and_encode_data(path=\"data/house2.csv\"):\n",
    "    df = pd.read_csv(path)\n",
    "\n",
    "    # Handle nulls\n",
    "    df.fillna(df.median(numeric_only=True), inplace=True)\n",
    "\n",
    "    # Encode categorical features\n",
    "    cat_cols = [\"location\"]\n",
    "    encoders = {}\n",
    "    for col in cat_cols:\n",
    "        le = LabelEncoder()\n",
    "        df[col + \"_encoded\"] = le.fit_transform(df[col])\n",
    "        encoders[col] = le\n",
    "\n",
    "    return df, encoders"
   ]
  },
  {
   "cell_type": "code",
   "execution_count": 5,
   "id": "c2f42a19",
   "metadata": {},
   "outputs": [],
   "source": [
    "import pickle\n",
    "import numpy as np\n",
    "import pandas as pd\n",
    "from sklearn.linear_model import LinearRegression\n",
    "from xgboost import XGBRegressor\n",
    "from statsmodels.tsa.statespace.sarimax import SARIMAX\n",
    "\n",
    "# Train & Save Models\n",
    "def train_models(df):\n",
    "    X = df[[\"sqft\", \"bedrooms\", \"bathrooms\", \"location_encoded\"]]\n",
    "    y = df[\"price\"]\n",
    "\n",
    "    # Linear Regression\n",
    "    lr = LinearRegression().fit(X, y)\n",
    "    pickle.dump(lr, open(\"models/linear_model.pkl\", \"wb\"))\n",
    "\n",
    "    # XGBoost\n",
    "    xgb = XGBRegressor().fit(X, y)\n",
    "    pickle.dump(xgb, open(\"models/xgb_model.pkl\", \"wb\"))\n",
    "\n",
    "    # SARIMA / SARIMAX (time series)\n",
    "    ts = df.groupby(\"date\")[\"price\"].mean()\n",
    "    sarimax = SARIMAX(ts, order=(1,1,1), seasonal_order=(1,1,1,12)).fit()\n",
    "    pickle.dump(sarimax, open(\"models/sarimax_model.pkl\", \"wb\"))\n",
    "\n",
    "def load_models():\n",
    "    models = {}\n",
    "    for m in [\"linear_model.pkl\", \"xgb_model.pkl\", \"sarimax_model.pkl\"]:\n",
    "        try:\n",
    "            models[m] = pickle.load(open(\"models/\" + m, \"rb\"))\n",
    "        except:\n",
    "            models[m] = None\n",
    "    return models\n",
    "\n",
    "def predict(models, new_house):\n",
    "    X = pd.DataFrame([new_house])\n",
    "\n",
    "    preds = []\n",
    "    if models[\"linear_model.pkl\"]:\n",
    "        preds.append(models[\"linear_model.pkl\"].predict(X)[0])\n",
    "    if models[\"xgb_model.pkl\"]:\n",
    "        preds.append(models[\"xgb_model.pkl\"].predict(X)[0])\n",
    "    if models[\"sarimax_model.pkl\"]:\n",
    "        preds.append(models[\"sarimax_model.pkl\"].forecast(steps=1)[0])\n",
    "\n",
    "    return np.mean(preds)"
   ]
  },
  {
   "cell_type": "code",
   "execution_count": 6,
   "id": "8e8e6920",
   "metadata": {},
   "outputs": [],
   "source": [
    "from sklearn.neighbors import NearestNeighbors\n",
    "\n",
    "def comparative_market_analysis(new_house, df, k=10):\n",
    "    features = [\"sqft\", \"bedrooms\", \"bathrooms\", \"location_encoded\"]\n",
    "    knn = NearestNeighbors(n_neighbors=k).fit(df[features])\n",
    "\n",
    "    new_df = pd.DataFrame([new_house])\n",
    "    distances, indices = knn.kneighbors(new_df)\n",
    "    similar = df.iloc[indices[0]]\n",
    "\n",
    "    return {\n",
    "        \"low\": similar[\"price\"].quantile(0.25),\n",
    "        \"median\": similar[\"price\"].median(),\n",
    "        \"high\": similar[\"price\"].quantile(0.75),\n",
    "        \"similar\": similar\n",
    "    }"
   ]
  },
  {
   "cell_type": "code",
   "execution_count": 8,
   "id": "f49b5f47",
   "metadata": {},
   "outputs": [
    {
     "ename": "ModuleNotFoundError",
     "evalue": "No module named 'rasa_sdk'",
     "output_type": "error",
     "traceback": [
      "\u001b[31m---------------------------------------------------------------------------\u001b[39m",
      "\u001b[31mModuleNotFoundError\u001b[39m                       Traceback (most recent call last)",
      "\u001b[36mCell\u001b[39m\u001b[36m \u001b[39m\u001b[32mIn[8]\u001b[39m\u001b[32m, line 1\u001b[39m\n\u001b[32m----> \u001b[39m\u001b[32m1\u001b[39m \u001b[38;5;28;01mfrom\u001b[39;00m\u001b[38;5;250m \u001b[39m\u001b[34;01mrasa_sdk\u001b[39;00m\u001b[38;5;250m \u001b[39m\u001b[38;5;28;01mimport\u001b[39;00m Action\n\u001b[32m      2\u001b[39m \u001b[38;5;28;01mfrom\u001b[39;00m\u001b[38;5;250m \u001b[39m\u001b[34;01mapp\u001b[39;00m\u001b[34;01m.\u001b[39;00m\u001b[34;01mmodels\u001b[39;00m\u001b[38;5;250m \u001b[39m\u001b[38;5;28;01mimport\u001b[39;00m load_models, predict\n\u001b[32m      3\u001b[39m \u001b[38;5;28;01mfrom\u001b[39;00m\u001b[38;5;250m \u001b[39m\u001b[34;01mapp\u001b[39;00m\u001b[34;01m.\u001b[39;00m\u001b[34;01mutils\u001b[39;00m\u001b[38;5;250m \u001b[39m\u001b[38;5;28;01mimport\u001b[39;00m load_and_encode_data, comparative_market_analysis\n",
      "\u001b[31mModuleNotFoundError\u001b[39m: No module named 'rasa_sdk'"
     ]
    }
   ],
   "source": [
    "from rasa_sdk import Action\n",
    "from app.models import load_models, predict\n",
    "from app.utils import load_and_encode_data, comparative_market_analysis\n",
    "\n",
    "class ActionPredictPrice(Action):\n",
    "    def name(self): return \"action_predict_price\"\n",
    "\n",
    "    def run(self, dispatcher, tracker, domain):\n",
    "        sqft = tracker.get_slot(\"sqft\")\n",
    "        bedrooms = tracker.get_slot(\"bedrooms\")\n",
    "        location = tracker.get_slot(\"location\")\n",
    "\n",
    "        df, encoders = load_and_encode_data()\n",
    "        models = load_models()\n",
    "\n",
    "        loc_encoded = encoders[\"location\"].transform([location])[0]\n",
    "\n",
    "        house = {\"sqft\": sqft, \"bedrooms\": bedrooms, \"bathrooms\": 2, \"location_encoded\": loc_encoded}\n",
    "        price = predict(models, house)\n",
    "\n",
    "        cma = comparative_market_analysis(house, df)\n",
    "\n",
    "        dispatcher.utter_message(text=f\"🏠 Predicted: ₹{price:,.0f}\\n\"\n",
    "                                      f\"📊 CMA Range: ₹{cma['low']:,.0f} - ₹{cma['high']:,.0f}\\n\"\n",
    "                                      f\"💡 Median: ₹{cma['median']:,.0f}\")\n",
    "        return []"
   ]
  }
 ],
 "metadata": {
  "kernelspec": {
   "display_name": "home",
   "language": "python",
   "name": "python3"
  },
  "language_info": {
   "codemirror_mode": {
    "name": "ipython",
    "version": 3
   },
   "file_extension": ".py",
   "mimetype": "text/x-python",
   "name": "python",
   "nbconvert_exporter": "python",
   "pygments_lexer": "ipython3",
   "version": "3.12.5"
  }
 },
 "nbformat": 4,
 "nbformat_minor": 5
}
